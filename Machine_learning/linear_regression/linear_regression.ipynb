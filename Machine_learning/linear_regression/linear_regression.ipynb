{
 "cells": [
  {
   "cell_type": "code",
   "execution_count": 1,
   "id": "9cdc8dd2-6304-442f-9f8b-30e88263bacb",
   "metadata": {},
   "outputs": [],
   "source": [
    "import random\n",
    "import numpy as np"
   ]
  },
  {
   "cell_type": "markdown",
   "id": "cba49a52-901e-447c-8233-d455e8cdc22e",
   "metadata": {},
   "source": [
    "# 数据生成"
   ]
  },
  {
   "cell_type": "code",
   "execution_count": 2,
   "id": "e8844d8f-6ae6-4c8f-958c-f4f9e0ec321a",
   "metadata": {},
   "outputs": [],
   "source": [
    "x = np.linspace(0,5,100)\n",
    "theta = 1.5*np.random.random(2)\n",
    "y = theta[0] + theta[1]*x + (np.random.randn(len(x)))/3\n",
    "# y = (1 + 0.3*np.random.rand()-0.5)*theta[0] + (1 + np.random.rand() -0.5)*theta[1]*x"
   ]
  },
  {
   "cell_type": "markdown",
   "id": "16a76a00-418f-43a5-87d7-d06e29df5d8d",
   "metadata": {},
   "source": [
    "# 线性回归"
   ]
  },
  {
   "cell_type": "code",
   "execution_count": 3,
   "id": "2baee1e9-1279-40fe-8f23-cfabbb7dab7e",
   "metadata": {},
   "outputs": [],
   "source": [
    "class linear_regression:\n",
    "    def __init__(self, iterator=1000, learning_rate=0.01):\n",
    "        self.name = \"wei_liu\"\n",
    "        self.theta = np.random.random(2)\n",
    "        self.loss = []\n",
    "        self.iterator = iterator\n",
    "        self.learning_rate = learning_rate\n",
    "        \n",
    "        \n",
    "    def load_data(self, x, y):\n",
    "        self.x = x\n",
    "        self.y = y\n",
    "\n",
    "    def train(self):\n",
    "        for i in range(self.iterator):\n",
    "            temp = np.array([ self.y[j] - (self.theta[0] + self.theta[1] * self.x[j]) for j in range(len(self.x))])\n",
    "            self.loss.append(np.sum(temp**2) / (2*len(self.x)))\n",
    "            self.theta[0] += (-1)*-self.learning_rate*(np.sum(temp))/len(self.x)\n",
    "            self.theta[1] += (-1)*-self.learning_rate*(np.sum(temp*self.x))/len(self.x)\n",
    "\n",
    "    def infer(self, x):\n",
    "        return theta[0]*x + theta[1]      "
   ]
  },
  {
   "cell_type": "code",
   "execution_count": 4,
   "id": "c9fe8b49-7a32-4144-be19-59ac822cc98b",
   "metadata": {
    "tags": []
   },
   "outputs": [],
   "source": [
    "iterator, learning_rate = 10000, 0.01\n",
    "linear = linear_regression(iterator, learning_rate)\n",
    "linear.load_data(x, y)\n",
    "linear.train()"
   ]
  },
  {
   "cell_type": "markdown",
   "id": "f1af5027-f1de-4845-9410-67d38a32dc87",
   "metadata": {},
   "source": [
    "# loss可视化"
   ]
  },
  {
   "cell_type": "code",
   "execution_count": 1,
   "id": "2595b493-9e5b-46bd-8030-459800ba01e2",
   "metadata": {
    "tags": []
   },
   "outputs": [
    {
     "ename": "NameError",
     "evalue": "name 'iterator' is not defined",
     "output_type": "error",
     "traceback": [
      "\u001b[1;31m---------------------------------------------------------------------------\u001b[0m",
      "\u001b[1;31mNameError\u001b[0m                                 Traceback (most recent call last)",
      "\u001b[1;32m<ipython-input-1-db4353e154e6>\u001b[0m in \u001b[0;36m<module>\u001b[1;34m()\u001b[0m\n\u001b[0;32m      1\u001b[0m \u001b[1;32mimport\u001b[0m \u001b[0mmatplotlib\u001b[0m\u001b[1;33m.\u001b[0m\u001b[0mpyplot\u001b[0m \u001b[1;32mas\u001b[0m \u001b[0mplt\u001b[0m\u001b[1;33m\u001b[0m\u001b[1;33m\u001b[0m\u001b[0m\n\u001b[1;32m----> 2\u001b[1;33m \u001b[0mplt\u001b[0m\u001b[1;33m.\u001b[0m\u001b[0mplot\u001b[0m\u001b[1;33m(\u001b[0m\u001b[1;33m[\u001b[0m\u001b[0mi\u001b[0m \u001b[1;32mfor\u001b[0m \u001b[0mi\u001b[0m \u001b[1;32min\u001b[0m \u001b[0mrange\u001b[0m\u001b[1;33m(\u001b[0m\u001b[0miterator\u001b[0m\u001b[1;33m)\u001b[0m\u001b[1;33m]\u001b[0m\u001b[1;33m,\u001b[0m \u001b[0mlinear\u001b[0m\u001b[1;33m.\u001b[0m\u001b[0mloss\u001b[0m\u001b[1;33m)\u001b[0m\u001b[1;33m\u001b[0m\u001b[1;33m\u001b[0m\u001b[0m\n\u001b[0m\u001b[0;32m      3\u001b[0m \u001b[0mplt\u001b[0m\u001b[1;33m.\u001b[0m\u001b[0mxlim\u001b[0m\u001b[1;33m(\u001b[0m\u001b[1;33m-\u001b[0m\u001b[1;36m2\u001b[0m\u001b[1;33m,\u001b[0m \u001b[0mlen\u001b[0m\u001b[1;33m(\u001b[0m\u001b[0mlinear\u001b[0m\u001b[1;33m.\u001b[0m\u001b[0mloss\u001b[0m\u001b[1;33m)\u001b[0m\u001b[1;33m/\u001b[0m\u001b[1;36m10\u001b[0m\u001b[1;33m)\u001b[0m\u001b[1;33m\u001b[0m\u001b[1;33m\u001b[0m\u001b[0m\n\u001b[0;32m      4\u001b[0m \u001b[0mplt\u001b[0m\u001b[1;33m.\u001b[0m\u001b[0mylim\u001b[0m\u001b[1;33m(\u001b[0m\u001b[1;33m-\u001b[0m\u001b[1;36m0.1\u001b[0m\u001b[1;33m,\u001b[0m \u001b[1;36m1.1\u001b[0m\u001b[1;33m*\u001b[0m\u001b[0mnp\u001b[0m\u001b[1;33m.\u001b[0m\u001b[0mmax\u001b[0m\u001b[1;33m(\u001b[0m\u001b[0mlinear\u001b[0m\u001b[1;33m.\u001b[0m\u001b[0mloss\u001b[0m\u001b[1;33m)\u001b[0m\u001b[1;33m)\u001b[0m\u001b[1;33m\u001b[0m\u001b[1;33m\u001b[0m\u001b[0m\n\u001b[0;32m      5\u001b[0m \u001b[0mplt\u001b[0m\u001b[1;33m.\u001b[0m\u001b[0mshow\u001b[0m\u001b[1;33m(\u001b[0m\u001b[1;33m)\u001b[0m\u001b[1;33m\u001b[0m\u001b[1;33m\u001b[0m\u001b[0m\n",
      "\u001b[1;31mNameError\u001b[0m: name 'iterator' is not defined"
     ]
    }
   ],
   "source": [
    "import matplotlib.pyplot as plt\n",
    "plt.plot([i for i in range(iterator)], linear.loss)\n",
    "plt.xlim(-2, len(linear.loss)/10)\n",
    "plt.ylim(-0.1, 1.1*np.max(linear.loss))\n",
    "plt.show()"
   ]
  },
  {
   "cell_type": "markdown",
   "id": "69e8cf18-053d-46a5-a15d-8902dc3ea602",
   "metadata": {},
   "source": [
    "# 推断（infer）"
   ]
  },
  {
   "cell_type": "code",
   "execution_count": 6,
   "id": "28b1f27e-1158-478d-bd23-3753e6b9a60b",
   "metadata": {},
   "outputs": [
    {
     "data": {
      "text/plain": [
       "array([2.74018016, 4.08213145, 5.42408273])"
      ]
     },
     "execution_count": 6,
     "metadata": {},
     "output_type": "execute_result"
    }
   ],
   "source": [
    "linear.infer(np.array([1,2,3]))"
   ]
  },
  {
   "cell_type": "code",
   "execution_count": 7,
   "id": "b2c138ed-cfad-4a30-aeac-f802316973eb",
   "metadata": {},
   "outputs": [
    {
     "name": "stdout",
     "output_type": "stream",
     "text": [
      "[1.34195129 1.39822887]\n",
      "[1.30942543 1.40355037]\n"
     ]
    }
   ],
   "source": [
    "print(theta)\n",
    "print(linear.theta)"
   ]
  },
  {
   "cell_type": "code",
   "execution_count": 8,
   "id": "5cae2923-0163-417b-a96b-c2678a668b9a",
   "metadata": {},
   "outputs": [
    {
     "data": {
      "image/png": "[encoded data removed]",
      "text/plain": [
       "<Figure size 432x288 with 1 Axes>"
      ]
     },
     "metadata": {
      "needs_background": "light"
     },
     "output_type": "display_data"
    }
   ],
   "source": [
    "plt.scatter(x,y)\n",
    "plt.plot(x, linear.theta[0]+linear.theta[1]*x, color=\"r\")\n",
    "plt.show()"
   ]
  },
  {
   "cell_type": "markdown",
   "id": "05bed2af-2046-4cd8-806b-b0fe3a332bb7",
   "metadata": {},
   "source": [
    "# 特征放缩对比"
   ]
  },
  {
   "cell_type": "code",
   "execution_count": 11,
   "id": "f52e0c4a-caf8-483d-85a4-5a2a04ea1f8d",
   "metadata": {},
   "outputs": [],
   "source": [
    "x = (np.random.randn(len(x)))\n",
    "theta = 1.5*np.random.random(2)\n",
    "y = theta[0] + theta[1]*x + (np.random.randn(len(x)))/5\n",
    "x_big = 10*x\n",
    "y_big = 10*(y - theta[0]) + theta[0]"
   ]
  },
  {
   "cell_type": "code",
   "execution_count": 12,
   "id": "4bda35af-417f-46af-83dc-72d9004fc4bc",
   "metadata": {},
   "outputs": [
    {
     "data": {
      "image/png": "[encoded data removed]",
      "text/plain": [
       "<Figure size 432x288 with 1 Axes>"
      ]
     },
     "metadata": {
      "needs_background": "light"
     },
     "output_type": "display_data"
    }
   ],
   "source": [
    "plt.scatter(x_big, y_big)\n",
    "plt.show()"
   ]
  },
  {
   "cell_type": "code",
   "execution_count": 13,
   "id": "1d0d95a0-bad7-478b-a24b-88b0fe43dd2d",
   "metadata": {},
   "outputs": [],
   "source": [
    "iterator, learning_rate = 10000, 0.01\n",
    "linear1 = linear_regression(iterator, learning_rate)\n",
    "linear1.load_data(x, y)\n",
    "linear1.train()"
   ]
  },
  {
   "cell_type": "code",
   "execution_count": 14,
   "id": "38749681-015f-4852-a3ef-ae7adfa1e0e6",
   "metadata": {},
   "outputs": [],
   "source": [
    "iterator, learning_rate = 10000, 0.001\n",
    "linear2 = linear_regression(iterator, learning_rate)\n",
    "linear2.load_data(x_big, y_big)\n",
    "linear2.train()"
   ]
  },
  {
   "cell_type": "code",
   "execution_count": 20,
   "id": "605bee98-5ffa-4e72-aa13-7c905a1ab638",
   "metadata": {},
   "outputs": [
    {
     "data": {
      "image/png": "[encoded data removed]",
      "text/plain": [
       "<Figure size 432x288 with 1 Axes>"
      ]
     },
     "metadata": {
      "needs_background": "light"
     },
     "output_type": "display_data"
    }
   ],
   "source": [
    "import matplotlib.pyplot as plt\n",
    "plt.plot([i for i in range(iterator)], linear1.loss, 'b')\n",
    "plt.plot([i for i in range(iterator)], linear2.loss, 'r')\n",
    "plt.xlim(-2, len(linear.loss)/100)\n",
    "plt.ylim(-0.1, np.max(linear2.loss)+0.5)\n",
    "plt.legend([\"normal\", \"big\"])\n",
    "plt.show()"
   ]
  },
  {
   "cell_type": "code",
   "execution_count": 21,
   "id": "51f31333-76b4-4005-8c5b-5e25da2d251d",
   "metadata": {},
   "outputs": [
    {
     "data": {
      "image/png": "[encoded data removed]",
      "text/plain": [
       "<Figure size 432x288 with 1 Axes>"
      ]
     },
     "metadata": {
      "needs_background": "light"
     },
     "output_type": "display_data"
    }
   ],
   "source": [
    "plt.scatter(x_big,y_big)\n",
    "plt.plot(x_big, linear1.theta[0]+linear1.theta[1]*x_big, color=\"b\")\n",
    "plt.plot(x_big, linear2.theta[0]+linear2.theta[1]*x_big, color='r')\n",
    "plt.legend([\"normal\", \"big\"])\n",
    "plt.show()"
   ]
  },
  {
   "cell_type": "code",
   "execution_count": null,
   "id": "bb02f6db-dd10-45f4-8bca-b286b1189846",
   "metadata": {},
   "outputs": [],
   "source": []
  }
 ],
 "metadata": {
  "kernelspec": {
   "display_name": "Python [conda env:machinelearning]",
   "language": "python",
   "name": "conda-env-machinelearning-py"
  },
  "language_info": {
   "codemirror_mode": {
    "name": "ipython",
    "version": 3
   },
   "file_extension": ".py",
   "mimetype": "text/x-python",
   "name": "python",
   "nbconvert_exporter": "python",
   "pygments_lexer": "ipython3",
   "version": "3.6.13"
  }
 },
 "nbformat": 4,
 "nbformat_minor": 5
}
