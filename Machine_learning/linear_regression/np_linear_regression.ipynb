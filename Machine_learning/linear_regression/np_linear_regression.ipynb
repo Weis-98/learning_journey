{
 "cells": [
  {
   "cell_type": "code",
   "execution_count": 1,
   "id": "07df69f5-257f-4af0-96bc-85ea6fc0b4b6",
   "metadata": {},
   "outputs": [],
   "source": [
    "import random\n",
    "import numpy as np"
   ]
  },
  {
   "cell_type": "code",
   "execution_count": 2,
   "id": "10c5af5d-1863-4b35-81f9-62de9f5e4b73",
   "metadata": {},
   "outputs": [],
   "source": [
    "x = np.linspace(0,5,100)\n",
    "x += (np.random.randn(len(x)))/3\n",
    "x = np.hstack((np.ones((len(x), 1)),x.reshape((len(x),1))))\n",
    "theta = 1.5*np.random.random((2,1))\n",
    "y = np.matmul(x, theta) + ((np.random.randn(len(x)))/3).reshape((len(x), 1))"
   ]
  },
  {
   "cell_type": "code",
   "execution_count": 9,
   "id": "ca5d1078-6681-4bcf-ba08-ad7714c4c4d7",
   "metadata": {},
   "outputs": [],
   "source": [
    "class linear_regression:\n",
    "    def __init__(self, iterator=1000, learning_rate=0.01):\n",
    "        self.name = \"wei_liu\"\n",
    "        self.theta = np.random.random(2).reshape((2,1))\n",
    "        self.loss = []\n",
    "        self.iterator = iterator\n",
    "        self.learning_rate = learning_rate\n",
    "        \n",
    "        \n",
    "    def load_data(self, x, y):\n",
    "        self.x = x\n",
    "        self.y = y\n",
    "\n",
    "    def train(self):\n",
    "        for i in range(self.iterator):\n",
    "#             temp = np.array([ self.y[i] - (self.theta[0] + self.theta[1] * self.x[i]) for i in range(len(self.x))])\n",
    "            temp = self.y - np.matmul(self.x, self.theta)\n",
    "            self.loss.append(np.sum(temp**2) / (2*len(self.x)))\n",
    "            self.theta[0] -= -self.learning_rate*(np.sum(temp))/len(self.x)\n",
    "            self.theta[1] -= -self.learning_rate*(np.sum(temp*self.x))/len(self.x)\n",
    "\n",
    "    def infer(self, x):\n",
    "        x = np.array([[1],[x]])\n",
    "        return np.matmul(self.theta.T, x)  "
   ]
  },
  {
   "cell_type": "code",
   "execution_count": 10,
   "id": "380ec905-bd3e-49c1-9a54-f068a52abb08",
   "metadata": {},
   "outputs": [],
   "source": [
    "iterator = 10000\n",
    "learning_rate = 0.01\n",
    "linear = linear_regression(iterator=iterator, learning_rate=learning_rate)\n",
    "linear.load_data(x, y)\n",
    "linear.train()"
   ]
  },
  {
   "cell_type": "code",
   "execution_count": 11,
   "id": "ea66632a-3cc6-4119-8257-47b645ab75cb",
   "metadata": {},
   "outputs": [
    {
     "data": {
      "text/plain": [
       "array([[44.08497243]])"
      ]
     },
     "execution_count": 11,
     "metadata": {},
     "output_type": "execute_result"
    }
   ],
   "source": [
    "linear.infer(65)"
   ]
  },
  {
   "cell_type": "code",
   "execution_count": 13,
   "id": "b515964b-e712-419f-aca3-47b2c4bf8515",
   "metadata": {},
   "outputs": [
    {
     "data": {
      "image/png": "[encoded data removed]",
      "text/plain": [
       "<Figure size 432x288 with 1 Axes>"
      ]
     },
     "metadata": {
      "needs_background": "light"
     },
     "output_type": "display_data"
    }
   ],
   "source": [
    "import matplotlib.pyplot as plt\n",
    "plt.plot([i for i in range(iterator)], linear.loss)\n",
    "plt.xlim(-2, len(linear.loss)/10)\n",
    "# plt.ylim(-0.1, 1.1*np.max(linear.loss))\n",
    "plt.show()"
   ]
  },
  {
   "cell_type": "code",
   "execution_count": 16,
   "id": "d906b473-80c9-40c8-a9b4-e05a1c80ac7a",
   "metadata": {},
   "outputs": [
    {
     "name": "stdout",
     "output_type": "stream",
     "text": [
      "[[0.79160731]\n",
      " [0.66605177]] [[0.8395201 ]\n",
      " [0.63802282]]\n",
      "\n"
     ]
    }
   ],
   "source": [
    "print(linear.theta)\n",
    "print(theta)"
   ]
  }
 ],
 "metadata": {
  "kernelspec": {
   "display_name": "Python [conda env:machinelearning]",
   "language": "python",
   "name": "conda-env-machinelearning-py"
  },
  "language_info": {
   "codemirror_mode": {
    "name": "ipython",
    "version": 3
   },
   "file_extension": ".py",
   "mimetype": "text/x-python",
   "name": "python",
   "nbconvert_exporter": "python",
   "pygments_lexer": "ipython3",
   "version": "3.6.13"
  }
 },
 "nbformat": 4,
 "nbformat_minor": 5
}
