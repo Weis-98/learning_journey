{
 "cells": [
  {
   "cell_type": "code",
   "execution_count": 99,
   "id": "f9b8d00a-0d4c-418c-94bf-c1947adbe6dc",
   "metadata": {},
   "outputs": [],
   "source": [
    "import numpy as np"
   ]
  },
  {
   "cell_type": "code",
   "execution_count": 130,
   "id": "2753747c-60f5-474e-8e55-5f0dfa0e93c1",
   "metadata": {},
   "outputs": [],
   "source": [
    "count = 500\n",
    "x_0 = np.linspace(0, 10, count)\n",
    "x  = x_0  + np.random.random((1, count))\n",
    "x = np.vstack((np.ones(x.shape), x))\n",
    "# theta = np.random.random((2,1))\n",
    "theta = np.array([[2],[1]])\n",
    "y = np.dot(theta.T, x) + np.random.randn(1,x.shape[-1])"
   ]
  },
  {
   "cell_type": "code",
   "execution_count": 131,
   "id": "a1347ffa-5f91-4e05-b3b5-6d06734aea94",
   "metadata": {},
   "outputs": [
    {
     "data": {
      "image/png": "[encoded data removed]",
      "text/plain": [
       "<Figure size 432x288 with 1 Axes>"
      ]
     },
     "metadata": {
      "needs_background": "light"
     },
     "output_type": "display_data"
    }
   ],
   "source": [
    "import matplotlib.pyplot as plt\n",
    "plt.scatter(x[1,:],y)\n",
    "plt.show()"
   ]
  },
  {
   "cell_type": "code",
   "execution_count": 139,
   "id": "674c7d59-f389-4c90-8709-fc72ebbcf282",
   "metadata": {},
   "outputs": [],
   "source": [
    "class logistic_regression:\n",
    "    def __init__(self,iterator=10000, learning_rate=0.01):\n",
    "        self.name = \"wei_liu\"\n",
    "        self.iterator = iterator\n",
    "        self.learning_rate = learning_rate\n",
    "        self.loss = []\n",
    "    \n",
    "    def load_data(self, x, y):\n",
    "        \"\"\"\n",
    "        x:[[]]\n",
    "        y: 0 or 1 \n",
    "        \"\"\"\n",
    "        self.m = x.shape[-1]\n",
    "#         self.x = np.vstack((np.ones((1,self.m)),x))\n",
    "        self.x = x \n",
    "        self.theta = np.random.random((self.x.shape[0], 1))\n",
    "        self.y = y\n",
    "        \n",
    "    def train(self):\n",
    "        def logistic(x):\n",
    "            return 1/(1+np.exp(-x))\n",
    "        \n",
    "        for i in range(self.iterator):\n",
    "            loss_val = -1/self.x.shape[-1]* np.sum(\n",
    "                np.log(logistic(np.dot(self.theta.T, self.x)))*self.y\n",
    "                +(np.ones((1,self.m)) - self.y)*np.log(np.ones((1,self.m)) - logistic(np.dot(self.theta.T, self.x))))\n",
    "            self.loss.append(loss_val)\n",
    "        \n",
    "    def infer(self, x):\n",
    "        x = np.vstack(np.ones((1,x.shape[-1])), x)\n",
    "        return np.dot((self.theta.T, x))"
   ]
  },
  {
   "cell_type": "code",
   "execution_count": 140,
   "id": "7ec7b370-3357-472d-b0bc-cedbc823d64a",
   "metadata": {},
   "outputs": [],
   "source": [
    "iterator = 10000\n",
    "learning_rate = 0.01\n",
    "l = logistic_regression(iterator, learning_rate)\n",
    "l.load_data(x,y)"
   ]
  },
  {
   "cell_type": "code",
   "execution_count": 141,
   "id": "da9c4078-cfae-492f-9ca5-8a57084fc45a",
   "metadata": {},
   "outputs": [],
   "source": [
    "l.train()"
   ]
  },
  {
   "cell_type": "code",
   "execution_count": 142,
   "id": "a7a6de40-e589-4492-b7b4-1912805f1397",
   "metadata": {},
   "outputs": [
    {
     "data": {
      "text/plain": [
       "array([[0.77815615],\n",
       "       [0.78580875]])"
      ]
     },
     "execution_count": 142,
     "metadata": {},
     "output_type": "execute_result"
    }
   ],
   "source": [
    "l.theta"
   ]
  },
  {
   "cell_type": "code",
   "execution_count": 143,
   "id": "2208824a-7f97-4784-b525-cab6b6d44d0d",
   "metadata": {},
   "outputs": [
    {
     "data": {
      "text/plain": [
       "[<matplotlib.lines.Line2D at 0x267d82adf98>]"
      ]
     },
     "execution_count": 143,
     "metadata": {},
     "output_type": "execute_result"
    },
    {
     "data": {
      "image/png": "[encoded data removed]",
      "text/plain": [
       "<Figure size 432x288 with 1 Axes>"
      ]
     },
     "metadata": {
      "needs_background": "light"
     },
     "output_type": "display_data"
    }
   ],
   "source": [
    "plt.plot([i for i in range(iterator)], l.loss)"
   ]
  },
  {
   "cell_type": "code",
   "execution_count": 41,
   "id": "410d4238-0981-40ec-9bbb-b6bd799bc6f4",
   "metadata": {},
   "outputs": [
    {
     "data": {
      "text/plain": [
       "array([[1, 2],\n",
       "       [2, 3]])"
      ]
     },
     "execution_count": 41,
     "metadata": {},
     "output_type": "execute_result"
    }
   ],
   "source": [
    "x"
   ]
  },
  {
   "cell_type": "code",
   "execution_count": 63,
   "id": "e8906628-e339-4081-b4c4-aaa5ae81ee3c",
   "metadata": {},
   "outputs": [
    {
     "ename": "TypeError",
     "evalue": "_vhstack_dispatcher() takes 1 positional argument but 2 were given",
     "output_type": "error",
     "traceback": [
      "\u001b[1;31m---------------------------------------------------------------------------\u001b[0m",
      "\u001b[1;31mTypeError\u001b[0m                                 Traceback (most recent call last)",
      "\u001b[1;32m<ipython-input-63-49f1980a1846>\u001b[0m in \u001b[0;36m<module>\u001b[1;34m()\u001b[0m\n\u001b[1;32m----> 1\u001b[1;33m \u001b[0mnp\u001b[0m\u001b[1;33m.\u001b[0m\u001b[0mvstack\u001b[0m\u001b[1;33m(\u001b[0m\u001b[0mnp\u001b[0m\u001b[1;33m.\u001b[0m\u001b[0marray\u001b[0m\u001b[1;33m(\u001b[0m\u001b[1;33m[\u001b[0m\u001b[1;36m1\u001b[0m\u001b[1;33m,\u001b[0m\u001b[1;36m2\u001b[0m\u001b[1;33m]\u001b[0m\u001b[1;33m)\u001b[0m\u001b[1;33m,\u001b[0m\u001b[0mx\u001b[0m\u001b[1;33m)\u001b[0m\u001b[1;33m\u001b[0m\u001b[1;33m\u001b[0m\u001b[0m\n\u001b[0m",
      "\u001b[1;32m<__array_function__ internals>\u001b[0m in \u001b[0;36mvstack\u001b[1;34m(*args, **kwargs)\u001b[0m\n",
      "\u001b[1;31mTypeError\u001b[0m: _vhstack_dispatcher() takes 1 positional argument but 2 were given"
     ]
    }
   ],
   "source": [
    "np.vstack(np.array([1,2]),x)"
   ]
  },
  {
   "cell_type": "code",
   "execution_count": 46,
   "id": "8e40313a-206b-4d03-847d-601bec9de180",
   "metadata": {},
   "outputs": [],
   "source": [
    "x = np.array([[1,2],[3,4],[5,6]])\n",
    "y = np.array([[7,8]])"
   ]
  },
  {
   "cell_type": "code",
   "execution_count": 64,
   "id": "a4cee097-91d1-49a3-96a3-ba0a1259b169",
   "metadata": {},
   "outputs": [
    {
     "ename": "ValueError",
     "evalue": "all the input array dimensions for the concatenation axis must match exactly, but along dimension 1, the array at index 0 has size 3 and the array at index 1 has size 2",
     "output_type": "error",
     "traceback": [
      "\u001b[1;31m---------------------------------------------------------------------------\u001b[0m",
      "\u001b[1;31mValueError\u001b[0m                                Traceback (most recent call last)",
      "\u001b[1;32m<ipython-input-64-76719f665ff0>\u001b[0m in \u001b[0;36m<module>\u001b[1;34m()\u001b[0m\n\u001b[1;32m----> 1\u001b[1;33m \u001b[0mnp\u001b[0m\u001b[1;33m.\u001b[0m\u001b[0mvstack\u001b[0m\u001b[1;33m(\u001b[0m\u001b[1;33m(\u001b[0m\u001b[0mx\u001b[0m\u001b[1;33m,\u001b[0m\u001b[0my\u001b[0m\u001b[1;33m)\u001b[0m\u001b[1;33m)\u001b[0m\u001b[1;33m\u001b[0m\u001b[1;33m\u001b[0m\u001b[0m\n\u001b[0m",
      "\u001b[1;32m<__array_function__ internals>\u001b[0m in \u001b[0;36mvstack\u001b[1;34m(*args, **kwargs)\u001b[0m\n",
      "\u001b[1;32mD:\\miniconda\\envs\\machinelearning\\lib\\site-packages\\numpy\\core\\shape_base.py\u001b[0m in \u001b[0;36mvstack\u001b[1;34m(tup)\u001b[0m\n\u001b[0;32m    281\u001b[0m     \u001b[1;32mif\u001b[0m \u001b[1;32mnot\u001b[0m \u001b[0misinstance\u001b[0m\u001b[1;33m(\u001b[0m\u001b[0marrs\u001b[0m\u001b[1;33m,\u001b[0m \u001b[0mlist\u001b[0m\u001b[1;33m)\u001b[0m\u001b[1;33m:\u001b[0m\u001b[1;33m\u001b[0m\u001b[1;33m\u001b[0m\u001b[0m\n\u001b[0;32m    282\u001b[0m         \u001b[0marrs\u001b[0m \u001b[1;33m=\u001b[0m \u001b[1;33m[\u001b[0m\u001b[0marrs\u001b[0m\u001b[1;33m]\u001b[0m\u001b[1;33m\u001b[0m\u001b[1;33m\u001b[0m\u001b[0m\n\u001b[1;32m--> 283\u001b[1;33m     \u001b[1;32mreturn\u001b[0m \u001b[0m_nx\u001b[0m\u001b[1;33m.\u001b[0m\u001b[0mconcatenate\u001b[0m\u001b[1;33m(\u001b[0m\u001b[0marrs\u001b[0m\u001b[1;33m,\u001b[0m \u001b[1;36m0\u001b[0m\u001b[1;33m)\u001b[0m\u001b[1;33m\u001b[0m\u001b[1;33m\u001b[0m\u001b[0m\n\u001b[0m\u001b[0;32m    284\u001b[0m \u001b[1;33m\u001b[0m\u001b[0m\n\u001b[0;32m    285\u001b[0m \u001b[1;33m\u001b[0m\u001b[0m\n",
      "\u001b[1;32m<__array_function__ internals>\u001b[0m in \u001b[0;36mconcatenate\u001b[1;34m(*args, **kwargs)\u001b[0m\n",
      "\u001b[1;31mValueError\u001b[0m: all the input array dimensions for the concatenation axis must match exactly, but along dimension 1, the array at index 0 has size 3 and the array at index 1 has size 2"
     ]
    }
   ],
   "source": [
    "np.vstack((x,y))"
   ]
  },
  {
   "cell_type": "code",
   "execution_count": null,
   "id": "58ac9445-b5df-4f91-9898-0ba8d49d1cad",
   "metadata": {},
   "outputs": [],
   "source": []
  }
 ],
 "metadata": {
  "kernelspec": {
   "display_name": "Python [conda env:machinelearning]",
   "language": "python",
   "name": "conda-env-machinelearning-py"
  },
  "language_info": {
   "codemirror_mode": {
    "name": "ipython",
    "version": 3
   },
   "file_extension": ".py",
   "mimetype": "text/x-python",
   "name": "python",
   "nbconvert_exporter": "python",
   "pygments_lexer": "ipython3",
   "version": "3.6.13"
  }
 },
 "nbformat": 4,
 "nbformat_minor": 5
}
