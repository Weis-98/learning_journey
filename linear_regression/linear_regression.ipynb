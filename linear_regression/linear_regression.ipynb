{
 "cells": [
  {
   "cell_type": "code",
   "execution_count": 1,
   "id": "9cdc8dd2-6304-442f-9f8b-30e88263bacb",
   "metadata": {},
   "outputs": [],
   "source": [
    "import random\n",
    "import numpy as np"
   ]
  },
  {
   "cell_type": "code",
   "execution_count": 2,
   "id": "e8844d8f-6ae6-4c8f-958c-f4f9e0ec321a",
   "metadata": {},
   "outputs": [],
   "source": [
    "x = np.linspace(0,5,100)\n",
    "theta = 1.5*np.random.random(2)\n",
    "y = theta[0] + theta[1]*x + (np.random.randn(len(x)))/3\n",
    "# y = (1 + 0.3*np.random.rand()-0.5)*theta[0] + (1 + np.random.rand() -0.5)*theta[1]*x"
   ]
  },
  {
   "cell_type": "code",
   "execution_count": 3,
   "id": "2baee1e9-1279-40fe-8f23-cfabbb7dab7e",
   "metadata": {},
   "outputs": [],
   "source": [
    "class linear_regression:\n",
    "    def __init__(self, iterator=1000, learning_rate=0.01):\n",
    "        self.name = \"wei_liu\"\n",
    "        self.theta = [0, 0]\n",
    "        self.loss = []\n",
    "        self.iterator = iterator\n",
    "        self.learning_rate = learning_rate\n",
    "        \n",
    "        \n",
    "    def load_data(self, x, y):\n",
    "        self.x = x\n",
    "        self.y = y\n",
    "\n",
    "    def train(self):\n",
    "        for i in range(self.iterator):\n",
    "            temp = np.array([ self.y[i] - (self.theta[0] + self.theta[1] * self.x[i]) for i in range(len(self.x))])\n",
    "            self.loss.append(np.sum(temp**2) / (2*len(self.x)))\n",
    "            self.theta[0] += (-1)*-self.learning_rate*(np.sum(temp))/len(self.x)\n",
    "            self.theta[1] += (-1)*-self.learning_rate*(np.sum(temp*self.x))/len(self.x)\n",
    "\n",
    "    def infer(self, x):\n",
    "        return theta[0]*x + theta[1]      "
   ]
  },
  {
   "cell_type": "code",
   "execution_count": 4,
   "id": "c9fe8b49-7a32-4144-be19-59ac822cc98b",
   "metadata": {
    "tags": []
   },
   "outputs": [],
   "source": [
    "iterator, learning_rate = 10000, 0.01\n",
    "linear = linear_regression(iterator, learning_rate)\n",
    "linear.load_data(x, y)\n",
    "linear.train()"
   ]
  },
  {
   "cell_type": "code",
   "execution_count": 5,
   "id": "2595b493-9e5b-46bd-8030-459800ba01e2",
   "metadata": {
    "tags": []
   },
   "outputs": [
    {
     "data": {
      "text/plain": [
       "<Figure size 640x480 with 1 Axes>"
      ]
     },
     "metadata": {},
     "output_type": "display_data"
    }
   ],
   "source": [
    "import matplotlib.pyplot as plt\n",
    "plt.plot([i for i in range(iterator)], linear.loss)\n",
    "# plt.xlim(-2, len(linear.loss))\n",
    "# plt.ylim(-0.1, 1.1*np.max(linear.loss))\n",
    "plt.show()"
   ]
  },
  {
   "cell_type": "code",
   "execution_count": 6,
   "id": "28b1f27e-1158-478d-bd23-3753e6b9a60b",
   "metadata": {},
   "outputs": [
    {
     "data": {
      "text/plain": [
       "array([0.35512318, 0.44820615, 0.54128912])"
      ]
     },
     "execution_count": 6,
     "metadata": {},
     "output_type": "execute_result"
    }
   ],
   "source": [
    "linear.infer(np.array([1,2,3]))"
   ]
  },
  {
   "cell_type": "code",
   "execution_count": 7,
   "id": "b2c138ed-cfad-4a30-aeac-f802316973eb",
   "metadata": {},
   "outputs": [
    {
     "name": "stdout",
     "output_type": "stream",
     "text": [
      "[0.09308297 0.26204021]\n",
      "[0.06564626746971775, 0.2770381575284387]\n"
     ]
    }
   ],
   "source": [
    "print(theta)\n",
    "print(linear.theta)"
   ]
  },
  {
   "cell_type": "code",
   "execution_count": 11,
   "id": "5cae2923-0163-417b-a96b-c2678a668b9a",
   "metadata": {},
   "outputs": [
    {
     "data": {
      "image/png": "[encoded data removed]",
      "text/plain": [
       "<Figure size 432x288 with 1 Axes>"
      ]
     },
     "metadata": {
      "needs_background": "light"
     },
     "output_type": "display_data"
    }
   ],
   "source": [
    "plt.scatter(x,y)\n",
    "plt.plot(x, linear.theta[0]+linear.theta[1]*x, color=\"r\")\n",
    "plt.show()"
   ]
  },
  {
   "cell_type": "code",
   "execution_count": null,
   "id": "85259753-38a6-45cc-b6b0-9b0c154274b9",
   "metadata": {},
   "outputs": [],
   "source": []
  }
 ],
 "metadata": {
  "kernelspec": {
   "display_name": "Python [conda env:machinelearning]",
   "language": "python",
   "name": "conda-env-machinelearning-py"
  },
  "language_info": {
   "codemirror_mode": {
    "name": "ipython",
    "version": 3
   },
   "file_extension": ".py",
   "mimetype": "text/x-python",
   "name": "python",
   "nbconvert_exporter": "python",
   "pygments_lexer": "ipython3",
   "version": "3.6.13"
  }
 },
 "nbformat": 4,
 "nbformat_minor": 5
}
