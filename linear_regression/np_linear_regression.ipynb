{
 "cells": [
  {
   "cell_type": "code",
   "execution_count": 1,
   "id": "07df69f5-257f-4af0-96bc-85ea6fc0b4b6",
   "metadata": {},
   "outputs": [],
   "source": [
    "import random\n",
    "import numpy as np"
   ]
  },
  {
   "cell_type": "code",
   "execution_count": 2,
   "id": "10c5af5d-1863-4b35-81f9-62de9f5e4b73",
   "metadata": {},
   "outputs": [],
   "source": [
    "x = np.linspace(0,5,100)\n",
    "x += (np.random.randn(len(x)))/3\n",
    "x = np.hstack((np.ones((len(x), 1)),x.reshape((len(x),1))))\n",
    "theta = 1.5*np.random.random((2,1))\n",
    "y = np.matmul(x, theta) + ((np.random.randn(len(x)))/3).reshape((len(x), 1))"
   ]
  },
  {
   "cell_type": "code",
   "execution_count": null,
   "id": "ca5d1078-6681-4bcf-ba08-ad7714c4c4d7",
   "metadata": {},
   "outputs": [],
   "source": [
    "class linear_regression:\n",
    "    def __init__(self, iterator=1000, learning_rate=0.01):\n",
    "        self.name = \"wei_liu\"\n",
    "        self.theta = np.random.random(2)\n",
    "        self.loss = []\n",
    "        self.iterator = iterator\n",
    "        self.learning_rate = learning_rate\n",
    "        \n",
    "        \n",
    "    def load_data(self, x, y):\n",
    "        self.x = x\n",
    "        self.y = y\n",
    "\n",
    "    def train(self):\n",
    "        for i in range(self.iterator):\n",
    "#             temp = np.array([ self.y[i] - (self.theta[0] + self.theta[1] * self.x[i]) for i in range(len(self.x))])\n",
    "            temp = self.y - \n",
    "            self.loss.append(np.sum(temp**2) / (2*len(self.x)))\n",
    "            self.theta[0] += (-1)*-self.learning_rate*(np.sum(temp))/len(self.x)\n",
    "            self.theta[1] += (-1)*-self.learning_rate*(np.sum(temp*self.x))/len(self.x)\n",
    "\n",
    "    def infer(self, x):\n",
    "        return theta[0]*x + theta[1]      "
   ]
  },
  {
   "cell_type": "code",
   "execution_count": null,
   "id": "3eb8527a-6a71-47b0-bf05-8d41440f0421",
   "metadata": {},
   "outputs": [],
   "source": []
  }
 ],
 "metadata": {
  "kernelspec": {
   "display_name": "Python [conda env:machinelearning]",
   "language": "python",
   "name": "conda-env-machinelearning-py"
  },
  "language_info": {
   "codemirror_mode": {
    "name": "ipython",
    "version": 3
   },
   "file_extension": ".py",
   "mimetype": "text/x-python",
   "name": "python",
   "nbconvert_exporter": "python",
   "pygments_lexer": "ipython3",
   "version": "3.6.13"
  }
 },
 "nbformat": 4,
 "nbformat_minor": 5
}
