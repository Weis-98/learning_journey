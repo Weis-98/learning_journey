{
 "cells": [
  {
   "cell_type": "markdown",
   "metadata": {},
   "source": [
    "# F20M/F21ML Coursework 2\n",
    "## Part III: Deep Learning with Keras for Detecting COVID19 from XRay Images\n",
    "\n",
    "- This notebook should be uploaded to Google Colab so that you can use GPU resources to accelerate the training for CNNs. "
   ]
  },
  {
   "cell_type": "code",
   "execution_count": null,
   "metadata": {
    "colab": {
     "base_uri": "https://localhost:8080/"
    },
    "id": "pEhuba06Qbpm",
    "outputId": "480ea071-595c-4802-9394-cd0a429785ac",
    "scrolled": true
   },
   "outputs": [],
   "source": [
    "!pip install gdown  # gdown is used to download large files from google drive. "
   ]
  },
  {
   "cell_type": "markdown",
   "metadata": {
    "id": "Smj5TDwZRoC_"
   },
   "source": [
    "## Download the Covid Xray dataset \n",
    "### Please note this dataset is based on a bigger one. Please don't distribute the dataset as it is only used for F20ML coursework. "
   ]
  },
  {
   "cell_type": "code",
   "execution_count": 1,
   "metadata": {
    "colab": {
     "base_uri": "https://localhost:8080/"
    },
    "id": "IC55oUmuQyoW",
    "outputId": "7c69445c-a62c-4480-8faf-1370dd5c3930",
    "scrolled": true
   },
   "outputs": [
    {
     "name": "stderr",
     "output_type": "stream",
     "text": [
      "'gdown' 不是内部或外部命令，也不是可运行的程序\n",
      "或批处理文件。\n"
     ]
    }
   ],
   "source": [
    "!gdown https://drive.google.com/uc?id=1GOaQpIZsFKNCkl1E3d01Bmxz_8FPoIeJ  # Covid and Normal data\n",
    "#!gdown https://drive.google.com/uc?id=1Xa4IxZy5o-eUPmadnrjlJZPHe9oRw2Ol   # balanced dataset"
   ]
  },
  {
   "cell_type": "markdown",
   "metadata": {
    "id": "1yn5TqaYUQU_"
   },
   "source": [
    "### Extract the zip file"
   ]
  },
  {
   "cell_type": "code",
   "execution_count": 3,
   "metadata": {
    "id": "y2foL0x5TTH4"
   },
   "outputs": [],
   "source": [
    "import os\n",
    "import zipfile\n",
    "\n",
    "local_zip = './COVID19Subset.zip'  # you may need to change the path based on your own enviroment\n",
    "zip_ref = zipfile.ZipFile(local_zip, 'r')\n",
    "zip_ref.extractall('./content')\n",
    "zip_ref.close()"
   ]
  },
  {
   "cell_type": "markdown",
   "metadata": {
    "id": "FwZtwMMddQYQ"
   },
   "source": [
    "### Loading data and perform data augmentation.\n"
   ]
  },
  {
   "cell_type": "code",
   "execution_count": 4,
   "metadata": {
    "colab": {
     "base_uri": "https://localhost:8080/"
    },
    "id": "cYpQNqrEUv_R",
    "outputId": "98ecb210-75e7-4ea1-e4ca-a02a0f3652cf"
   },
   "outputs": [
    {
     "name": "stdout",
     "output_type": "stream",
     "text": [
      "2\n",
      "Found 11047 images belonging to 2 classes.\n",
      "Found 2761 images belonging to 2 classes.\n"
     ]
    }
   ],
   "source": [
    "from keras.preprocessing.image import ImageDataGenerator\n",
    "\n",
    "path = './content/COVID-19Subset' # you may need to change the path based on your own enviroment\n",
    "\n",
    "classes=[\"COVID\",  \"Normal\"]\n",
    "num_classes = len(classes)\n",
    "print(num_classes)\n",
    "batch_size=16\n",
    "\n",
    "import numpy as np\n",
    "np.random.seed(25)\n",
    "#split data into train and test\n",
    "datagen = ImageDataGenerator(rotation_range=20, zoom_range=0.15, width_shift_range=0.2, height_shift_range=0.2, shear_range=0.15, horizontal_flip=True, fill_mode=\"nearest\", rescale=1./255, validation_split=0.2)\n",
    "\n",
    "#load training image set\n",
    "train_gen = datagen.flow_from_directory(directory=path, \n",
    "                                              target_size=(299, 299),\n",
    "                                              class_mode='categorical',\n",
    "                                              subset='training',\n",
    "                                              shuffle=True, classes=classes,\n",
    "                                              batch_size=batch_size, \n",
    "                                              color_mode=\"grayscale\")\n",
    "#load testing set\n",
    "test_gen = datagen.flow_from_directory(directory=path, \n",
    "                                              target_size=(299, 299),\n",
    "                                              class_mode='categorical',\n",
    "                                              subset='validation',\n",
    "                                              shuffle=True, classes=classes,\n",
    "                                              batch_size=batch_size, \n",
    "                                              color_mode=\"grayscale\")\n",
    "\n"
   ]
  },
  {
   "cell_type": "code",
   "execution_count": 5,
   "metadata": {
    "colab": {
     "base_uri": "https://localhost:8080/"
    },
    "id": "iYS4VceMmtAb",
    "outputId": "3c61ae72-fec5-4893-aa12-a3f632d385db"
   },
   "outputs": [],
   "source": [
    "# train_gen[0][0].shape"
   ]
  },
  {
   "cell_type": "code",
   "execution_count": 6,
   "metadata": {
    "id": "HGOznlEeZ3PW"
   },
   "outputs": [],
   "source": [
    "from tensorflow import keras\n",
    "from keras.models import Sequential, Model\n",
    "from keras.layers import Conv2D, MaxPooling2D,GlobalAveragePooling2D, Conv3D, MaxPooling3D,GlobalAveragePooling3D\n",
    "from keras.layers import Activation, Dropout, BatchNormalization, Flatten, Dense, AvgPool2D,MaxPool2D\n",
    "# from keras.optimizers import Adam, SGD, RMSprop\n",
    "\n",
    "#TODO: compelte a CNN model using Keras in the following function"
   ]
  },
  {
   "cell_type": "code",
   "execution_count": 7,
   "metadata": {},
   "outputs": [],
   "source": [
    "from keras.layers import Input, Add, Dense, Activation, ZeroPadding2D, BatchNormalization, Flatten, Conv2D, AveragePooling2D, MaxPooling2D, GlobalMaxPooling2D\n",
    "from keras.initializers import glorot_uniform\n",
    "import numpy as np\n",
    "np.random.seed(25)\n",
    "\n",
    "def identity_block(X, f, filters, stage, block):\n",
    " \n",
    "    conv_name_base = 'res' + str(stage) + block + '_branch'\n",
    "    bn_name_base = 'bn' + str(stage) + block + '_branch'\n",
    " \n",
    "    F1, F2, F3 = filters\n",
    " \n",
    "    X_shortcut = X\n",
    " \n",
    "    X = Conv2D(filters = F1, kernel_size = (1,1), strides = (1,1), padding = 'valid', name = conv_name_base + '2a', kernel_initializer = glorot_uniform(seed = 0))(X)\n",
    "    X = BatchNormalization(axis = 3, name = bn_name_base + '2a')(X)\n",
    "    X = Activation('relu')(X)\n",
    " \n",
    "    X = Conv2D(filters = F2, kernel_size = (f,f), strides = (1,1), padding = 'same', name = conv_name_base + '2b', kernel_initializer = glorot_uniform(seed = 0))(X)\n",
    "    X = BatchNormalization(axis = 3, name = bn_name_base + '2b')(X)\n",
    "    X = Activation('relu')(X)\n",
    " \n",
    "    X = Conv2D(filters = F3, kernel_size = (1,1), strides = (1,1), padding = 'valid', name = conv_name_base + '2c', kernel_initializer = glorot_uniform(seed = 0))(X)\n",
    "    X = BatchNormalization(axis = 3, name = bn_name_base + '2c')(X)\n",
    " \n",
    "    X = Add()([X, X_shortcut])\n",
    "    X = Activation('relu')(X)\n",
    " \n",
    "    return X\n",
    "\n",
    "def convolution_block(X, f, filters, stage, block, s=2):\n",
    " \n",
    "    conv_name_base = 'res' + str(stage) + block + '_branch'\n",
    "    bn_name_base = 'bn' + str(stage) + block + '_branch'\n",
    "    F1, F2, F3 = filters\n",
    " \n",
    "    X_shortcut = X\n",
    " \n",
    "    X = Conv2D(filters = F1, kernel_size = (1,1), strides = (s,s), name = conv_name_base + '2a', kernel_initializer = glorot_uniform(seed = 0))(X)\n",
    "    X = BatchNormalization(axis = 3, name = bn_name_base + '2a')(X)\n",
    "    X = Activation('relu')(X)\n",
    " \n",
    "    X = Conv2D(filters = F2, kernel_size = (f,f), strides = (1,1), padding = 'same', name = conv_name_base + '2b', kernel_initializer = glorot_uniform(seed = 0))(X)\n",
    "    X = BatchNormalization(axis = 3, name = bn_name_base + '2b')(X)\n",
    "    X = Activation('relu')(X)\n",
    " \n",
    "    X = Conv2D(filters = F3, kernel_size = (1,1), strides = (1,1), name = conv_name_base + '2c', kernel_initializer = glorot_uniform(seed = 0))(X)\n",
    "    X = BatchNormalization(axis = 3, name = bn_name_base + '2c')(X)\n",
    " \n",
    "    X_shortcut = Conv2D(F3, (1,1), strides = (s,s), name = conv_name_base + '1', kernel_initializer = glorot_uniform(seed=0))(X_shortcut)\n",
    "    X_shortcut = BatchNormalization(axis = 3, name=bn_name_base + '1')(X_shortcut)\n",
    " \n",
    "    X = Add()([X, X_shortcut])\n",
    "    X = Activation('relu')(X)\n",
    " \n",
    "    return X\n",
    "\n",
    "def my_model(input_shape = (299, 299, 1), classes = 2):\n",
    " \n",
    "    X_input = Input(input_shape)\n",
    " \n",
    "    X = ZeroPadding2D((3, 3))(X_input)\n",
    " \n",
    "    X = Conv2D(64, (7, 7), strides = (2,2), name = 'conv1', kernel_initializer = glorot_uniform(seed=0))(X)\n",
    "    X = BatchNormalization(axis = 3, name = 'bn_conv1')(X)\n",
    "    X = Activation('relu')(X)\n",
    "    X = MaxPooling2D((3, 3), strides = (2,2))(X)\n",
    " \n",
    "    X = convolution_block(X, f = 3, filters = [64,64,256], stage = 2, block = 'a', s = 1)\n",
    "    X = Dropout(0.2)(X)\n",
    "    X = identity_block(X, 3, [64,64,256], stage=2, block='b')\n",
    "    X = Dropout(0.2)(X)\n",
    "    X = identity_block(X, 3, [64,64,256], stage=2, block='c')\n",
    "    X = Dropout(0.2)(X)\n",
    "    \n",
    "    X = convolution_block(X, f = 3, filters = [128,128,512], stage = 3, block = 'a', s = 2)\n",
    "    X = Dropout(0.2)(X)\n",
    "    X = identity_block(X, 3, [128,128,512], stage=3, block='b')\n",
    "    X = Dropout(0.2)(X)\n",
    "    X = identity_block(X, 3, [128,128,512], stage=3, block='c')\n",
    "    X = Dropout(0.2)(X)\n",
    "    X = identity_block(X, 3, [128,128,512], stage=3, block='d')\n",
    " \n",
    "    X = convolution_block(X, f = 3, filters = [256,256,1024], stage = 4, block = 'a', s = 2)\n",
    "    X = Dropout(0.2)(X)\n",
    "    X = identity_block(X, 3, [256,256,1024], stage=4, block='b')\n",
    "    X = Dropout(0.2)(X)\n",
    "    X = identity_block(X, 3, [256,256,1024], stage=4, block='c')\n",
    "    X = Dropout(0.2)(X)\n",
    "    X = identity_block(X, 3, [256,256,1024], stage=4, block='d')    \n",
    "    X = Dropout(0.2)(X)\n",
    "    X = identity_block(X, 3, [256,256,1024], stage=4, block='e')\n",
    "    X = Dropout(0.2)(X)\n",
    "    X = identity_block(X, 3, [256,256,1024], stage=4, block='f')\n",
    " \n",
    "    # X = convolution_block(X, f = 3, filters = [512,512,2048], stage = 5, block = 'a', s = 2)\n",
    "    # X = Dropout(0.2)(X)\n",
    "    # X = identity_block(X, 3, [512,512,2048], stage=5, block='b')\n",
    "    # X = Dropout(0.2)(X)\n",
    "    # X = identity_block(X, 3, [512,512,2048], stage=5, block='c')\n",
    " \n",
    "    X = AveragePooling2D((2, 2), name='avg_pool')(X)\n",
    " \n",
    "    X = Flatten()(X)\n",
    "    X = Dense(classes, activation = 'softmax', name = 'fc' + str(classes), kernel_initializer = glorot_uniform(seed=0))(X)\n",
    " \n",
    "    model = Model(inputs = X_input, outputs = X, name = 'my_model')\n",
    "    model.compile(optimizer='adam', loss = 'categorical_crossentropy', metrics=['accuracy'])\n",
    "    \n",
    "    return model"
   ]
  },
  {
   "cell_type": "code",
   "execution_count": 8,
   "metadata": {
    "colab": {
     "base_uri": "https://localhost:8080/"
    },
    "id": "Tt_1R4VjkKcD",
    "outputId": "c12df634-419e-42dc-b541-8bb7c672a405",
    "tags": []
   },
   "outputs": [
    {
     "data": {
      "text/plain": [
       "[name: \"/device:CPU:0\"\n",
       " device_type: \"CPU\"\n",
       " memory_limit: 268435456\n",
       " locality {\n",
       " }\n",
       " incarnation: 9618975571369230661,\n",
       " name: \"/device:GPU:0\"\n",
       " device_type: \"GPU\"\n",
       " memory_limit: 5736300544\n",
       " locality {\n",
       "   bus_id: 1\n",
       "   links {\n",
       "   }\n",
       " }\n",
       " incarnation: 5901902152918747417\n",
       " physical_device_desc: \"device: 0, name: NVIDIA GeForce RTX 3070, pci bus id: 0000:01:00.0, compute capability: 8.6\"]"
      ]
     },
     "execution_count": 8,
     "metadata": {},
     "output_type": "execute_result"
    }
   ],
   "source": [
    "# check if we are using GPU\n",
    "import tensorflow as tf\n",
    "tf.test.gpu_device_name()  # test if GPU is availabe. GPU will be much faster. \n",
    "from tensorflow.python.client import device_lib\n",
    "device_lib.list_local_devices()"
   ]
  },
  {
   "cell_type": "code",
   "execution_count": 9,
   "metadata": {
    "tags": []
   },
   "outputs": [],
   "source": [
    "model = my_model() \n",
    "# model.summary()"
   ]
  },
  {
   "cell_type": "code",
   "execution_count": 10,
   "metadata": {
    "id": "qv_YNoLGZ837"
   },
   "outputs": [
    {
     "name": "stdout",
     "output_type": "stream",
     "text": [
      "Epoch 1/41\n",
      "43/43 - 29s - loss: 46.1550 - accuracy: 0.6148 - val_loss: 0.6288 - val_accuracy: 0.6938\n",
      "Epoch 2/41\n",
      "43/43 - 8s - loss: 11.3669 - accuracy: 0.6134 - val_loss: 1.9354 - val_accuracy: 0.1937\n",
      "Epoch 3/41\n",
      "43/43 - 8s - loss: 6.8756 - accuracy: 0.6119 - val_loss: 2.1625 - val_accuracy: 0.3187\n",
      "Epoch 4/41\n",
      "43/43 - 8s - loss: 5.6079 - accuracy: 0.6192 - val_loss: 1.3993 - val_accuracy: 0.2562\n",
      "Epoch 5/41\n",
      "43/43 - 8s - loss: 3.5969 - accuracy: 0.6817 - val_loss: 1.0265 - val_accuracy: 0.1813\n",
      "Epoch 6/41\n",
      "43/43 - 8s - loss: 4.1445 - accuracy: 0.6366 - val_loss: 1.1100 - val_accuracy: 0.3375\n",
      "Epoch 7/41\n",
      "43/43 - 8s - loss: 3.5795 - accuracy: 0.6555 - val_loss: 0.9640 - val_accuracy: 0.2500\n",
      "Epoch 8/41\n",
      "43/43 - 8s - loss: 3.0334 - accuracy: 0.6672 - val_loss: 0.6715 - val_accuracy: 0.6187\n",
      "Epoch 9/41\n",
      "43/43 - 8s - loss: 3.0726 - accuracy: 0.6933 - val_loss: 0.5589 - val_accuracy: 0.7063\n",
      "Epoch 10/41\n",
      "43/43 - 8s - loss: 2.7440 - accuracy: 0.7340 - val_loss: 0.7215 - val_accuracy: 0.4375\n",
      "Epoch 11/41\n",
      "43/43 - 8s - loss: 2.5712 - accuracy: 0.7282 - val_loss: 0.7426 - val_accuracy: 0.4875\n",
      "Epoch 12/41\n",
      "43/43 - 8s - loss: 1.7283 - accuracy: 0.7311 - val_loss: 0.7723 - val_accuracy: 0.4812\n",
      "Epoch 13/41\n",
      "43/43 - 8s - loss: 1.7115 - accuracy: 0.7195 - val_loss: 0.4741 - val_accuracy: 0.7937\n",
      "Epoch 14/41\n",
      "43/43 - 8s - loss: 2.1818 - accuracy: 0.6991 - val_loss: 0.5837 - val_accuracy: 0.6750\n",
      "Epoch 15/41\n",
      "43/43 - 8s - loss: 1.8752 - accuracy: 0.7573 - val_loss: 0.5497 - val_accuracy: 0.7812\n",
      "Epoch 16/41\n",
      "43/43 - 8s - loss: 1.8013 - accuracy: 0.7166 - val_loss: 0.6007 - val_accuracy: 0.7188\n",
      "Epoch 17/41\n",
      "43/43 - 8s - loss: 1.6921 - accuracy: 0.7209 - val_loss: 0.6618 - val_accuracy: 0.7312\n",
      "Epoch 18/41\n",
      "43/43 - 8s - loss: 1.8047 - accuracy: 0.7703 - val_loss: 0.5674 - val_accuracy: 0.8062\n",
      "Epoch 19/41\n",
      "43/43 - 9s - loss: 1.8405 - accuracy: 0.7393 - val_loss: 0.5257 - val_accuracy: 0.7812\n",
      "Epoch 20/41\n",
      "43/43 - 8s - loss: 1.6208 - accuracy: 0.7355 - val_loss: 0.4416 - val_accuracy: 0.8125\n",
      "Epoch 21/41\n",
      "43/43 - 8s - loss: 1.7370 - accuracy: 0.7010 - val_loss: 0.5758 - val_accuracy: 0.7500\n",
      "Epoch 22/41\n",
      "43/43 - 8s - loss: 1.7110 - accuracy: 0.7413 - val_loss: 0.6417 - val_accuracy: 0.7250\n",
      "Epoch 23/41\n",
      "43/43 - 8s - loss: 1.6847 - accuracy: 0.7427 - val_loss: 0.7128 - val_accuracy: 0.6187\n",
      "Epoch 24/41\n",
      "43/43 - 8s - loss: 1.8236 - accuracy: 0.7108 - val_loss: 0.6947 - val_accuracy: 0.7437\n",
      "Epoch 25/41\n",
      "43/43 - 8s - loss: 1.4741 - accuracy: 0.7878 - val_loss: 0.5433 - val_accuracy: 0.8000\n",
      "Epoch 26/41\n",
      "43/43 - 8s - loss: 2.4456 - accuracy: 0.6453 - val_loss: 0.9890 - val_accuracy: 0.7000\n",
      "Epoch 27/41\n",
      "43/43 - 8s - loss: 1.6002 - accuracy: 0.7471 - val_loss: 0.5965 - val_accuracy: 0.7250\n",
      "Epoch 28/41\n",
      "43/43 - 8s - loss: 1.4009 - accuracy: 0.7384 - val_loss: 0.5220 - val_accuracy: 0.7625\n",
      "Epoch 29/41\n",
      "43/43 - 8s - loss: 1.5057 - accuracy: 0.7195 - val_loss: 0.5030 - val_accuracy: 0.7437\n",
      "Epoch 30/41\n",
      "43/43 - 8s - loss: 1.5360 - accuracy: 0.7951 - val_loss: 0.5102 - val_accuracy: 0.7937\n",
      "Epoch 31/41\n",
      "43/43 - 8s - loss: 1.5738 - accuracy: 0.7398 - val_loss: 0.6381 - val_accuracy: 0.7500\n",
      "Epoch 32/41\n",
      "43/43 - 8s - loss: 1.4002 - accuracy: 0.7267 - val_loss: 0.6331 - val_accuracy: 0.6687\n",
      "Epoch 33/41\n",
      "43/43 - 8s - loss: 1.6448 - accuracy: 0.7282 - val_loss: 0.8950 - val_accuracy: 0.6062\n",
      "Epoch 34/41\n",
      "43/43 - 8s - loss: 1.2673 - accuracy: 0.7544 - val_loss: 0.5437 - val_accuracy: 0.7688\n",
      "Epoch 35/41\n",
      "43/43 - 8s - loss: 1.3252 - accuracy: 0.7195 - val_loss: 0.6808 - val_accuracy: 0.5562\n",
      "Epoch 36/41\n",
      "43/43 - 8s - loss: 1.2074 - accuracy: 0.7718 - val_loss: 0.5377 - val_accuracy: 0.7500\n",
      "Epoch 37/41\n",
      "43/43 - 8s - loss: 1.1751 - accuracy: 0.7587 - val_loss: 0.6866 - val_accuracy: 0.7937\n",
      "Epoch 38/41\n",
      "43/43 - 8s - loss: 1.1306 - accuracy: 0.7878 - val_loss: 0.6352 - val_accuracy: 0.6375\n",
      "Epoch 39/41\n",
      "43/43 - 8s - loss: 1.0461 - accuracy: 0.7820 - val_loss: 0.4318 - val_accuracy: 0.7812\n",
      "Epoch 40/41\n",
      "43/43 - 8s - loss: 1.1082 - accuracy: 0.7820 - val_loss: 0.5443 - val_accuracy: 0.7875\n",
      "Epoch 41/41\n",
      "43/43 - 8s - loss: 1.0750 - accuracy: 0.8023 - val_loss: 0.4698 - val_accuracy: 0.8000\n"
     ]
    }
   ],
   "source": [
    "# fit the model\n",
    "epoch=41 # choose the value for this hyperparameter wisely.\n",
    "class_weights = {0:3, 1:2}\n",
    "history1 = model.fit(train_gen, steps_per_epoch=len(train_gen) // batch_size, validation_steps=len(test_gen) // batch_size, validation_data=test_gen, epochs=epoch, class_weight=class_weights,verbose=2)"
   ]
  },
  {
   "cell_type": "markdown",
   "metadata": {
    "id": "W5MSHvlouvG5"
   },
   "source": [
    "## Plot Train and validation loss curve"
   ]
  },
  {
   "cell_type": "code",
   "execution_count": 11,
   "metadata": {
    "colab": {
     "base_uri": "https://localhost:8080/",
     "height": 295
    },
    "id": "8n5cIgK6aDAT",
    "outputId": "9b25f1f7-5c22-475f-b774-20fc6f792ce6"
   },
   "outputs": [
    {
     "data": {
      "image/png": "[encoded data removed]",
      "text/plain": [
       "<Figure size 432x288 with 1 Axes>"
      ]
     },
     "metadata": {
      "needs_background": "light"
     },
     "output_type": "display_data"
    }
   ],
   "source": [
    "import matplotlib.pyplot as plt\n",
    "plt.plot(history1.history['loss'])\n",
    "plt.plot(history1.history['val_loss'])\n",
    "plt.title('Model loss')\n",
    "plt.ylabel('Loss')\n",
    "plt.xlabel('Epoch')\n",
    "plt.legend(['Train', 'Val'], loc='upper right')\n",
    "plt.show()"
   ]
  },
  {
   "cell_type": "markdown",
   "metadata": {
    "id": "R12_x_qUu3kf"
   },
   "source": [
    "## Plot Train and Validation Accuracy"
   ]
  },
  {
   "cell_type": "code",
   "execution_count": 12,
   "metadata": {
    "colab": {
     "base_uri": "https://localhost:8080/",
     "height": 295
    },
    "id": "bnLkOEuiaITy",
    "outputId": "870bf997-4d21-408d-83ac-4b14f0f73618"
   },
   "outputs": [
    {
     "data": {
      "image/png": "[encoded data removed]",
      "text/plain": [
       "<Figure size 432x288 with 1 Axes>"
      ]
     },
     "metadata": {
      "needs_background": "light"
     },
     "output_type": "display_data"
    }
   ],
   "source": [
    "plt.plot(history1.history['accuracy'])\n",
    "plt.plot(history1.history['val_accuracy'])\n",
    "plt.title('Model accuracy')\n",
    "plt.ylabel('Accuracy')\n",
    "plt.xlabel('Epoch')\n",
    "plt.legend(['Train', 'Val'], loc='upper left')\n",
    "plt.show()"
   ]
  },
  {
   "cell_type": "markdown",
   "metadata": {
    "id": "y0hUknSkvCRh"
   },
   "source": [
    "## Evaluate the model on the test set and get accuracy (>70% expected)"
   ]
  },
  {
   "cell_type": "code",
   "execution_count": 13,
   "metadata": {
    "id": "SD8ycWUyaLLm"
   },
   "outputs": [
    {
     "name": "stdout",
     "output_type": "stream",
     "text": [
      "173/173 [==============================] - 16s 90ms/step - loss: 0.4904 - accuracy: 0.7765\n",
      "[0.49038881063461304, 0.7765302658081055]\n",
      "Model accuracy: 0.7765302658081055\n"
     ]
    }
   ],
   "source": [
    "scores = model.evaluate(test_gen, steps=len(test_gen))\n",
    "print(scores)\n",
    "print('Model accuracy: {}'.format(scores[1]))"
   ]
  },
  {
   "cell_type": "markdown",
   "metadata": {
    "id": "rN42g4TCuedg"
   },
   "source": [
    "## Test the model on the test set and report confusion matrix, and identify any issues"
   ]
  },
  {
   "cell_type": "code",
   "execution_count": 14,
   "metadata": {
    "id": "YQN047E-ahZO"
   },
   "outputs": [
    {
     "name": "stdout",
     "output_type": "stream",
     "text": [
      "              precision    recall  f1-score   support\n",
      "\n",
      "       COVID       0.24      0.31      0.27       723\n",
      "      Normal       0.73      0.65      0.68      2038\n",
      "\n",
      "    accuracy                           0.56      2761\n",
      "   macro avg       0.48      0.48      0.48      2761\n",
      "weighted avg       0.60      0.56      0.58      2761\n",
      "\n"
     ]
    }
   ],
   "source": [
    "from sklearn.metrics import classification_report, confusion_matrix\n",
    "import numpy as np\n",
    "\n",
    "# TODO: report confusion matrix on test set (test_gen)\n",
    "Y_pred = np.argmax(model.predict(test_gen), axis=1)\n",
    "print(classification_report(test_gen.classes, Y_pred, target_names=classes))\n",
    "cm = confusion_matrix(test_gen.classes, Y_pred)"
   ]
  },
  {
   "cell_type": "code",
   "execution_count": 18,
   "metadata": {},
   "outputs": [
    {
     "data": {
      "text/plain": [
       "Text(33.0, 0.5, 'Y_true')"
      ]
     },
     "execution_count": 18,
     "metadata": {},
     "output_type": "execute_result"
    },
    {
     "data": {
      "image/png": "[encoded data removed]",
      "text/plain": [
       "<Figure size 432x288 with 2 Axes>"
      ]
     },
     "metadata": {
      "needs_background": "light"
     },
     "output_type": "display_data"
    }
   ],
   "source": [
    "import seaborn as sns\n",
    "import matplotlib.pyplot as plt\n",
    "%matplotlib inline\n",
    "sns.heatmap(cm, annot=True, fmt='.20g')\n",
    "plt.xlabel('Y_pred')\n",
    "plt.ylabel('Y_true')"
   ]
  },
  {
   "cell_type": "markdown",
   "metadata": {},
   "source": [
    "## Perform Hyperparamter Tuning, transfer learning, or other approaches to further improve the learning performance"
   ]
  },
  {
   "cell_type": "code",
   "execution_count": null,
   "metadata": {},
   "outputs": [],
   "source": [
    "# TODO Hyperparameter Tuning or other ways to improve learning performance here.\n"
   ]
  }
 ],
 "metadata": {
  "accelerator": "GPU",
  "colab": {
   "collapsed_sections": [],
   "name": " covidxray_F20ML_2020-21.ipynb",
   "provenance": []
  },
  "kernelspec": {
   "display_name": "Python [conda env:dnn36]",
   "language": "python",
   "name": "conda-env-dnn36-py"
  },
  "language_info": {
   "codemirror_mode": {
    "name": "ipython",
    "version": 3
   },
   "file_extension": ".py",
   "mimetype": "text/x-python",
   "name": "python",
   "nbconvert_exporter": "python",
   "pygments_lexer": "ipython3",
   "version": "3.6.13"
  }
 },
 "nbformat": 4,
 "nbformat_minor": 4
}
